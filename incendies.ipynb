{
 "cells": [
  {
   "cell_type": "markdown",
   "metadata": {},
   "source": [
    "# Feux de forets en France\n",
    "\n",
    "Le but de ce notebook est d'analyser l'évolution des feux de forets en france au cours du temps."
   ]
  },
  {
   "cell_type": "code",
   "execution_count": 1,
   "metadata": {},
   "outputs": [],
   "source": [
    "import pandas as pd\n",
    "import matplotlib.pyplot as plt"
   ]
  },
  {
   "cell_type": "code",
   "execution_count": 2,
   "metadata": {},
   "outputs": [
    {
     "data": {
      "text/plain": [
       "(41587, 16)"
      ]
     },
     "execution_count": 2,
     "metadata": {},
     "output_type": "execute_result"
    }
   ],
   "source": [
    "df = pd.read_csv('export_BDIFF_incendies_20220718.csv', skiprows=5, sep=';')\n",
    "df['Month'] = pd.to_datetime(df['Date de première alerte']).dt.month\n",
    "df['Hectares'] = df['Surface brûlée (m2)'] / 10000\n",
    "df.shape"
   ]
  },
  {
   "cell_type": "code",
   "execution_count": 3,
   "metadata": {},
   "outputs": [
    {
     "data": {
      "text/html": [
       "<div>\n",
       "<style scoped>\n",
       "    .dataframe tbody tr th:only-of-type {\n",
       "        vertical-align: middle;\n",
       "    }\n",
       "\n",
       "    .dataframe tbody tr th {\n",
       "        vertical-align: top;\n",
       "    }\n",
       "\n",
       "    .dataframe thead th {\n",
       "        text-align: right;\n",
       "    }\n",
       "</style>\n",
       "<table border=\"1\" class=\"dataframe\">\n",
       "  <thead>\n",
       "    <tr style=\"text-align: right;\">\n",
       "      <th></th>\n",
       "      <th>Année</th>\n",
       "      <th>Numéro</th>\n",
       "      <th>Département</th>\n",
       "      <th>Code INSEE</th>\n",
       "      <th>Commune</th>\n",
       "      <th>Date de première alerte</th>\n",
       "      <th>Surface brûlée (m2)</th>\n",
       "      <th>Surface forêt (m2)</th>\n",
       "      <th>Surface autres terres boisées (m2)</th>\n",
       "      <th>Surfaces non boisées naturelles (m2)</th>\n",
       "      <th>Surfaces non boisées artificialisées (m2)</th>\n",
       "      <th>Surfaces non boisées (m2)</th>\n",
       "      <th>Précision des surfaces</th>\n",
       "      <th>Statut</th>\n",
       "      <th>Month</th>\n",
       "      <th>Hectares</th>\n",
       "    </tr>\n",
       "  </thead>\n",
       "  <tbody>\n",
       "    <tr>\n",
       "      <th>0</th>\n",
       "      <td>2006</td>\n",
       "      <td>2</td>\n",
       "      <td>01</td>\n",
       "      <td>01148</td>\n",
       "      <td>Dortan</td>\n",
       "      <td>2006-02-27 13:56:00</td>\n",
       "      <td>10000</td>\n",
       "      <td>0.0</td>\n",
       "      <td>10000.0</td>\n",
       "      <td>0.0</td>\n",
       "      <td>0.0</td>\n",
       "      <td>0.0</td>\n",
       "      <td>NaN</td>\n",
       "      <td>Validé en force</td>\n",
       "      <td>2</td>\n",
       "      <td>1.0</td>\n",
       "    </tr>\n",
       "    <tr>\n",
       "      <th>1</th>\n",
       "      <td>2006</td>\n",
       "      <td>3</td>\n",
       "      <td>01</td>\n",
       "      <td>01321</td>\n",
       "      <td>Revonnas</td>\n",
       "      <td>2006-03-15 16:02:00</td>\n",
       "      <td>10000</td>\n",
       "      <td>0.0</td>\n",
       "      <td>10000.0</td>\n",
       "      <td>0.0</td>\n",
       "      <td>0.0</td>\n",
       "      <td>0.0</td>\n",
       "      <td>NaN</td>\n",
       "      <td>Validé en force</td>\n",
       "      <td>3</td>\n",
       "      <td>1.0</td>\n",
       "    </tr>\n",
       "    <tr>\n",
       "      <th>2</th>\n",
       "      <td>2006</td>\n",
       "      <td>4</td>\n",
       "      <td>01</td>\n",
       "      <td>01032</td>\n",
       "      <td>Béligneux</td>\n",
       "      <td>2006-03-16 17:03:00</td>\n",
       "      <td>10000</td>\n",
       "      <td>0.0</td>\n",
       "      <td>10000.0</td>\n",
       "      <td>0.0</td>\n",
       "      <td>0.0</td>\n",
       "      <td>0.0</td>\n",
       "      <td>NaN</td>\n",
       "      <td>Validé en force</td>\n",
       "      <td>3</td>\n",
       "      <td>1.0</td>\n",
       "    </tr>\n",
       "    <tr>\n",
       "      <th>3</th>\n",
       "      <td>2006</td>\n",
       "      <td>5</td>\n",
       "      <td>01</td>\n",
       "      <td>01109</td>\n",
       "      <td>Collonges</td>\n",
       "      <td>2006-03-27 14:30:00</td>\n",
       "      <td>10000</td>\n",
       "      <td>0.0</td>\n",
       "      <td>10000.0</td>\n",
       "      <td>0.0</td>\n",
       "      <td>0.0</td>\n",
       "      <td>0.0</td>\n",
       "      <td>NaN</td>\n",
       "      <td>Validé en force</td>\n",
       "      <td>3</td>\n",
       "      <td>1.0</td>\n",
       "    </tr>\n",
       "    <tr>\n",
       "      <th>4</th>\n",
       "      <td>2006</td>\n",
       "      <td>6</td>\n",
       "      <td>01</td>\n",
       "      <td>01384</td>\n",
       "      <td>Saint-Rambert-en-Bugey</td>\n",
       "      <td>2006-04-24 16:43:00</td>\n",
       "      <td>20000</td>\n",
       "      <td>0.0</td>\n",
       "      <td>20000.0</td>\n",
       "      <td>0.0</td>\n",
       "      <td>0.0</td>\n",
       "      <td>0.0</td>\n",
       "      <td>NaN</td>\n",
       "      <td>Validé en force</td>\n",
       "      <td>4</td>\n",
       "      <td>2.0</td>\n",
       "    </tr>\n",
       "  </tbody>\n",
       "</table>\n",
       "</div>"
      ],
      "text/plain": [
       "   Année  Numéro Département Code INSEE                 Commune  \\\n",
       "0   2006       2          01      01148                  Dortan   \n",
       "1   2006       3          01      01321                Revonnas   \n",
       "2   2006       4          01      01032               Béligneux   \n",
       "3   2006       5          01      01109               Collonges   \n",
       "4   2006       6          01      01384  Saint-Rambert-en-Bugey   \n",
       "\n",
       "  Date de première alerte  Surface brûlée (m2)  Surface forêt (m2)  \\\n",
       "0     2006-02-27 13:56:00                10000                 0.0   \n",
       "1     2006-03-15 16:02:00                10000                 0.0   \n",
       "2     2006-03-16 17:03:00                10000                 0.0   \n",
       "3     2006-03-27 14:30:00                10000                 0.0   \n",
       "4     2006-04-24 16:43:00                20000                 0.0   \n",
       "\n",
       "   Surface autres terres boisées (m2)  Surfaces non boisées naturelles (m2)  \\\n",
       "0                             10000.0                                   0.0   \n",
       "1                             10000.0                                   0.0   \n",
       "2                             10000.0                                   0.0   \n",
       "3                             10000.0                                   0.0   \n",
       "4                             20000.0                                   0.0   \n",
       "\n",
       "   Surfaces non boisées artificialisées (m2)  Surfaces non boisées (m2)  \\\n",
       "0                                        0.0                        0.0   \n",
       "1                                        0.0                        0.0   \n",
       "2                                        0.0                        0.0   \n",
       "3                                        0.0                        0.0   \n",
       "4                                        0.0                        0.0   \n",
       "\n",
       "  Précision des surfaces           Statut  Month  Hectares  \n",
       "0                    NaN  Validé en force      2       1.0  \n",
       "1                    NaN  Validé en force      3       1.0  \n",
       "2                    NaN  Validé en force      3       1.0  \n",
       "3                    NaN  Validé en force      3       1.0  \n",
       "4                    NaN  Validé en force      4       2.0  "
      ]
     },
     "execution_count": 3,
     "metadata": {},
     "output_type": "execute_result"
    }
   ],
   "source": [
    "df.head()"
   ]
  },
  {
   "cell_type": "code",
   "execution_count": 4,
   "metadata": {},
   "outputs": [],
   "source": [
    "fireByYear = pd.DataFrame(df['Année'].value_counts(sort=False))\n",
    "surfaceByYear = pd.DataFrame(df.groupby('Année').sum()['Hectares'])\n",
    "fireByYear = fireByYear.merge(surfaceByYear, left_index=True, right_index=True)\n",
    "fireByYear.columns = ['Nombres de feu', 'Hectares brulées']\n",
    "\n",
    "fireByMonth = pd.DataFrame(df['Month'].value_counts(sort=False))\n",
    "surfaceByMonth = pd.DataFrame(df.groupby('Month').sum()['Hectares'])\n",
    "fireByMonth = fireByMonth.merge(surfaceByMonth, left_index=True, right_index=True)\n",
    "fireByMonth.columns = ['Nombres de feu', 'Hectares brulées']\n",
    "\n",
    "fireByDep = df['Département'].value_counts()"
   ]
  },
  {
   "cell_type": "code",
   "execution_count": 5,
   "metadata": {},
   "outputs": [
    {
     "data": {
      "image/png": "[encoded data removed]",
      "text/plain": [
       "<Figure size 720x360 with 1 Axes>"
      ]
     },
     "metadata": {
      "needs_background": "light"
     },
     "output_type": "display_data"
    }
   ],
   "source": [
    "#plot a double bar chart of NombreDeFeu and Hectares by year\n",
    "fireByYear.plot(kind='bar', stacked=True ,figsize=(10,5), title=\"Evolution des feux de forets en fonction de l'année\")\n",
    "plt.show()"
   ]
  },
  {
   "cell_type": "markdown",
   "metadata": {},
   "source": [
    "On constate une légere augmentation des feux au fil des années."
   ]
  },
  {
   "cell_type": "code",
   "execution_count": 6,
   "metadata": {},
   "outputs": [
    {
     "data": {
      "image/png": "[encoded data removed]",
      "text/plain": [
       "<Figure size 720x360 with 1 Axes>"
      ]
     },
     "metadata": {
      "needs_background": "light"
     },
     "output_type": "display_data"
    }
   ],
   "source": [
    "#plot a double bar chart of NombreDeFeu and Hectares by month\n",
    "fireByMonth.plot(kind='bar', stacked=True ,figsize=(10,5), title='Evolution des feux de forets en fonction du mois')\n",
    "plt.show()"
   ]
  },
  {
   "cell_type": "markdown",
   "metadata": {},
   "source": [
    "Logiquement, on constate que les feux de forets sont plus présents durant les periodes estivals."
   ]
  },
  {
   "cell_type": "code",
   "execution_count": 7,
   "metadata": {},
   "outputs": [
    {
     "data": {
      "image/png": "[encoded data removed]",
      "text/plain": [
       "<Figure size 1800x360 with 1 Axes>"
      ]
     },
     "metadata": {
      "needs_background": "light"
     },
     "output_type": "display_data"
    }
   ],
   "source": [
    "# fire by dep\n",
    "plt.figure(figsize=(25, 5))\n",
    "plt.bar(fireByDep.index, fireByDep.values)\n",
    "plt.title('Nombre d\\'incendies par département')\n",
    "plt.xlabel('Département')\n",
    "plt.ylabel('Nombre d\\'incendies')\n",
    "plt.show()"
   ]
  }
 ],
 "metadata": {
  "kernelspec": {
   "display_name": "Python 3.9.7 ('base')",
   "language": "python",
   "name": "python3"
  },
  "language_info": {
   "codemirror_mode": {
    "name": "ipython",
    "version": 3
   },
   "file_extension": ".py",
   "mimetype": "text/x-python",
   "name": "python",
   "nbconvert_exporter": "python",
   "pygments_lexer": "ipython3",
   "version": "3.9.7"
  },
  "orig_nbformat": 4,
  "vscode": {
   "interpreter": {
    "hash": "9d6866e9f614e05fca89e1c72d21fa4e6410604c1bc12dd3d2df6b222f458453"
   }
  }
 },
 "nbformat": 4,
 "nbformat_minor": 2
}
